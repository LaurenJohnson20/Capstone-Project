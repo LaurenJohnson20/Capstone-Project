{
    "cells": [
        {
            "metadata": {
                "collapsed": true
            },
            "cell_type": "markdown",
            "source": "<h2>The Battle of The Neighborhoods - Part 1 </h2>"
        },
        {
            "metadata": {},
            "cell_type": "markdown",
            "source": "### Introduction/Business Problem:"
        },
        {
            "metadata": {},
            "cell_type": "markdown",
            "source": "<p>The city of New York has a population of 8.623 million. It is a diverse, multicultural, global hub for bussiness, fashion, tourism, media, theater, and the arts (Among many other things). With that said, this means that the market is extremely competitive, thus making it useful for new bussinsses to analysis the market carefully, in hopes to either find a niche market, or to see what has been successful in the pertained area.</p>"
        },
        {
            "metadata": {},
            "cell_type": "markdown",
            "source": "New York City is a prominent location for outstanding cuisine. The City has been described as a \"melting pot\" of international influences that can be tracked by its union of many nationalities, cultures, and ethnicities. New York City is a place where over 800 languages are spoken and is the quintessential \"melting pot\" of the USA."
        },
        {
            "metadata": {},
            "cell_type": "markdown",
            "source": "Most of, if not all, of these influences come directly from the vast history of immigration to New York City. \n\nFor example, much of the cuisine usually associated with New York City stems in part from its large community of Ashkenazi Jews and their descendants. The world famous New York institution of the \"Delicatessen,\" commonly referred to as a \"Deli,\" was originally an institution of the city's Jewry. Much of New York City's Jewish fare has become popular around the globe, especially bagels. (New York City's Jewish community is also famously fond of Chinese food, and many members of this community think of it as their second ethnic cuisine).\n\nLike the Askenazi-Jewish community, another cuisine usually associated with New York City stems in part from its large community of Italian-Americans and their descendants. Much of New York City's Italian fare has become popular around the globe, especially New York-style pizza.\n\nBesides Pizzeria's, cafe's, dinner's, and many standalone ethnic specfic restauraunts, there is also a market for street food and mobile food vendors.\n\nThe city is home to \"nearly one thousand of the finest and most diverse haute cuisine restaurants in the world\", according to Michelin.\n\nSo it is obvious that to survive in such a fiercely competitive market, it is very important to startegically plan and carefully decide on what type of bussiness to open and where to open it.\n\nVarious factors need to be studied in-order to decide on the Location such as:\n\n1. New York Population\n2. New York City Demographics\n3. Who are the competitors in that location?\n4. Cuisine served / Menu of the competitors\n5. Segmentation of the Borough\n6. Untapped markets\n7. Saturated markets, etc\n\nThe list can go on...\n\n"
        },
        {
            "metadata": {},
            "cell_type": "markdown",
            "source": "### Target Audience:"
        },
        {
            "metadata": {},
            "cell_type": "markdown",
            "source": "To recommend a great location, the objective is to locate and recommend to the relevent stakeholder which neighborhood of New York City will be the best choice to start a restaurant. The stakeholder also expects to understand the logical bases of the recommendations made.\n\nThis would interest anyone who wants to start a new restaurant in New York City."
        },
        {
            "metadata": {},
            "cell_type": "markdown",
            "source": "### Success Criteria:"
        },
        {
            "metadata": {},
            "cell_type": "markdown",
            "source": "The success criteria of the project will be a good recommendation of borough/Neighborhood to start a restauraunt, based on restaurants in that specific location. "
        },
        {
            "metadata": {},
            "cell_type": "code",
            "source": "",
            "execution_count": null,
            "outputs": []
        }
    ],
    "metadata": {
        "kernelspec": {
            "name": "python3",
            "display_name": "Python 3.6",
            "language": "python"
        },
        "language_info": {
            "name": "python",
            "version": "3.6.9",
            "mimetype": "text/x-python",
            "codemirror_mode": {
                "name": "ipython",
                "version": 3
            },
            "pygments_lexer": "ipython3",
            "nbconvert_exporter": "python",
            "file_extension": ".py"
        }
    },
    "nbformat": 4,
    "nbformat_minor": 1
}