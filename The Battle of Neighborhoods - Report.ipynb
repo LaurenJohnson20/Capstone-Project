{
    "cells": [
        {
            "cell_type": "markdown",
            "metadata": {
                "collapsed": true
            },
            "source": "## The Battle of The Neighborhoods - Part 1\n\n### Introduction/Business Problem:"
        },
        {
            "cell_type": "markdown",
            "metadata": {},
            "source": "The city of New York has a population of 8.623 million. It is a diverse, multicultural, global hub for bussiness, fashion, tourism, media, theater, and the arts (Among many other things). With that said, this means that the market is extremely competitive, thus making it useful for new bussinsses to analysis the market carefully, in hopes to either find a niche market, or to see what has been successful in the pertained area.\n\nNew York City is a prominent location for outstanding cuisine. The City has been described as a \"melting pot\" of international influences that can be tracked by its union of many nationalities, cultures, and ethnicities. New York City is a place where over 800 languages are spoken and is the quintessential \"melting pot\" of the USA.\n\nMost of, if not all, of these influences come directly from the vast history of immigration to New York City.\n\nFor example, much of the cuisine usually associated with New York City stems in part from its large community of Ashkenazi Jews and their descendants. The world famous New York institution of the \"Delicatessen,\" commonly referred to as a \"Deli,\" was originally an institution of the city's Jewry. Much of New York City's Jewish fare has become popular around the globe, especially bagels. (New York City's Jewish community is also famously fond of Chinese food, and many members of this community think of it as their second ethnic cuisine).\n\nLike the Askenazi-Jewish community, another cuisine usually associated with New York City stems in part from its large community of Italian-Americans and their descendants. Much of New York City's Italian fare has become popular around the globe, especially New York-style pizza.\n\nBesides Pizzeria's, cafe's, dinner's, and many standalone ethnic specfic restauraunts, there is also a market for street food and mobile food vendors.\n\nThe city is home to \"nearly one thousand of the finest and most diverse haute cuisine restaurants in the world\", according to Michelin.\n\nSo it is obvious that to survive in such a fiercely competitive market, it is very important to startegically plan and carefully decide on what type of bussiness to open and where to open it.\n\nVarious factors need to be studied in-order to decide on the Location such as:\n\n1. New York Population\n2. New York City Demographics\n3. Who are the competitors in that location?\n4. Cuisine served / Menu of the competitors\n5. Segmentation of the Borough\n6. Untapped markets\n7. Saturated markets, etc\n\nAnd the list can go on...\n\n\n### Target Audience:\nTo recommend a great location, the objective is to locate and recommend to the relevent stakeholder which neighborhood of New York City will be the best choice to start a restaurant. The stakeholder also expects to understand the logical bases of the recommendations made.\n\nThis would interest anyone who wants to start a new restaurant in New York City.\n\n### Success Criteria:\nThe success criteria of the project will be a good recommendation of borough/Neighborhood to start a restauraunt, based on restaurants in that specific location."
        },
        {
            "cell_type": "markdown",
            "metadata": {},
            "source": "## The Battle of Neighborhoods - Part 2\n\n### Data:\n\nThe city that we will be analyzing: <b>New York City<b>"
        },
        {
            "cell_type": "markdown",
            "metadata": {},
            "source": "\n<i>Dataset 1:<I>\n\nNew York City has a total of 5 boroughs and at least 154 neighborhoods. In order to compare the neighborhoods and explore them, we will essentially need a dataset that contains the 5 boroughs and the neighborhoods that exist in each borough as well as the the latitude and logitude coordinates of each neighborhood.\n\n<i>Link to the dataset:<i> https://geo.nyu.edu/catalog/nyu_2451_34572\n\n<b>Dataset 2:<b>\n\nWe will be analyzing New York's population, demographics, and the cusine of New York City. New York City's geographical coordinates data will also be utilized as input for the Foursquare API, that will be leveraged to provision venues information for each neighborhood. We will use the Foursquare API to explore neighborhoods in New York City.\n\n<i>Links to the data we will be getting from wikipedia:<i>\n\nhttps://en.wikipedia.org/wiki/New_York_City\n\nhttps://en.wikipedia.org/wiki/Portal:New_York_City\n\nhttps://en.wikipedia.org/wiki/Economy_of_New_York_City\n\nhttps://en.wikipedia.org/wiki/List_of_Michelin_starred_restaurants_in_New_York_City\n\nhttps://en.wikipedia.org/wiki/Cuisine_of_New_York_City"
        },
        {
            "cell_type": "markdown",
            "metadata": {},
            "source": "## Analytic Approach:"
        },
        {
            "cell_type": "markdown",
            "metadata": {},
            "source": "New York City has 5 boroughs and at least up to 154 or more neighborhoods. In this project, the first part is clustering Manhattan and Brooklyn. And in the second part, Bronx, Queens, and Manhattan. This is done because of the folloing Exploratory data analysis:"
        },
        {
            "cell_type": "markdown",
            "metadata": {},
            "source": "## Exploratory Data Analysis:"
        },
        {
            "cell_type": "markdown",
            "metadata": {},
            "source": "### Dataset 1 - New York City Geographical Coordinates Data"
        },
        {
            "cell_type": "markdown",
            "metadata": {},
            "source": "1. In this, we load the data and explore it from <b>newyork_data.json<b> file.\n2. Transform the data of nested python dictionaries into a pandas dataframe.\n3. This dataframe contains the geographical coordinates of New York City neighborhoods.\n4. We will use geopy and folium libraries to create a map of New York City with neighborhoods placed on top."
        },
        {
            "cell_type": "markdown",
            "metadata": {},
            "source": "### New York City Neighborhoods"
        },
        {
            "cell_type": "markdown",
            "metadata": {},
            "source": "<img src=\"https://imgur.com/3UneZin\">"
        },
        {
            "cell_type": "markdown",
            "metadata": {},
            "source": "## Data 2: New York City Cuisine"
        },
        {
            "cell_type": "markdown",
            "metadata": {},
            "source": "### New York City: Most preferred - Italian, Puerto Rican, Mexican, Jewish, Indian, Pakistani & Dominican."
        },
        {
            "cell_type": "markdown",
            "metadata": {},
            "source": "<img src=\"https://imgur.com/JoPpwFA\">\n"
        },
        {
            "cell_type": "markdown",
            "metadata": {},
            "source": "### Brooklyn: Most preferred - Italian, Puerto Rican, & Mexican."
        },
        {
            "cell_type": "markdown",
            "metadata": {},
            "source": "<img src=\"https://imgur.com/WpPM4Lo\">\n"
        },
        {
            "cell_type": "markdown",
            "metadata": {},
            "source": "### Manhattan: Most preferred  - Italian, American, Puetro Rican, & Indian."
        },
        {
            "cell_type": "markdown",
            "metadata": {},
            "source": "<img src=\"https://imgur.com/uzYSLfj\">"
        },
        {
            "cell_type": "markdown",
            "metadata": {},
            "source": "### Queens: Most preferred -  Indian, Irish, Pakistani, & Mexican"
        },
        {
            "cell_type": "markdown",
            "metadata": {},
            "source": "<img src=\"https://imgur.com/kOdybT6\">"
        },
        {
            "cell_type": "markdown",
            "metadata": {},
            "source": "### The Bronx : Most preferred - Italian, Puerto Rican, Albanian, & Dominican."
        },
        {
            "cell_type": "markdown",
            "metadata": {},
            "source": "<img src=\"https://imgur.com/kOdybT6\">"
        },
        {
            "cell_type": "markdown",
            "metadata": {},
            "source": "<center>Note: For some reason, my images aren't showing up on GitHub, I sincerly apologize, I don't know how to fix it.\n"
        },
        {
            "cell_type": "markdown",
            "metadata": {},
            "source": "### Results:\n\nFrom this data, we have determined the most popular, and least popular, food cusinie in the New York City region. The most commonly popular food being, Italian, second being Puerto Rican."
        },
        {
            "cell_type": "markdown",
            "metadata": {},
            "source": "### Discussion: "
        },
        {
            "cell_type": "markdown",
            "metadata": {},
            "source": "1. There is a very compettive market in Italian cusine. \n2. There is a niche market for certian ethnic cusine.\n3. In Manhattan and Brooklyn, the amount of divertisty in cusine is more available compared to others."
        },
        {
            "cell_type": "markdown",
            "metadata": {},
            "source": "### Conclusion: "
        },
        {
            "cell_type": "markdown",
            "metadata": {},
            "source": "This analysis is performed on limited data, it may be right or wrong. If there are a lot of restaruants for a specific cusine, it must be in high demand. Brooklyn and Manhattan have a higher concentration of restaurants compared to the other boroughs. Since some of the other boroughs are lacking, this could be explored."
        },
        {
            "cell_type": "code",
            "execution_count": null,
            "metadata": {},
            "outputs": [],
            "source": ""
        }
    ],
    "metadata": {
        "kernelspec": {
            "display_name": "Python 3.6",
            "language": "python",
            "name": "python3"
        },
        "language_info": {
            "codemirror_mode": {
                "name": "ipython",
                "version": 3
            },
            "file_extension": ".py",
            "mimetype": "text/x-python",
            "name": "python",
            "nbconvert_exporter": "python",
            "pygments_lexer": "ipython3",
            "version": "3.6.9"
        }
    },
    "nbformat": 4,
    "nbformat_minor": 1
}