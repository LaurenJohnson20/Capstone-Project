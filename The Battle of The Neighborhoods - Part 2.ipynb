{
    "cells": [
        {
            "metadata": {
                "collapsed": true
            },
            "cell_type": "markdown",
            "source": "## The Battle of Neighborhoods - Part 2"
        },
        {
            "metadata": {},
            "cell_type": "markdown",
            "source": "### Data:"
        },
        {
            "metadata": {},
            "cell_type": "markdown",
            "source": "The city that we will be analyzing:\n<strong>New York City<strong>"
        },
        {
            "metadata": {},
            "cell_type": "markdown",
            "source": "### We will be using the below datasets for analysing New York City:"
        },
        {
            "metadata": {},
            "cell_type": "markdown",
            "source": "<strong> Dataset 1:<strong> \n    \nNew York City has a total of 5 boroughs and at least 154 neighborhoods. In order to compare the neighborhoods and explore them, we will essentially need a dataset that contains the 5 boroughs and the neighborhoods that exist in each borough as well as the the latitude and logitude coordinates of each neighborhood."
        },
        {
            "metadata": {},
            "cell_type": "markdown",
            "source": "<i>Link to the dataset:<i> https://geo.nyu.edu/catalog/nyu_2451_34572"
        },
        {
            "metadata": {},
            "cell_type": "markdown",
            "source": "<strong>Dataset 2:<strong>\n\n<strong> We will be analyzing New York's population, demographics, and the cusine of New York City. New York City's geographical coordinates data will also be utilized as input for the Foursquare API, that will be leveraged to provision venues information for each neighborhood. We will use the Foursquare API to explore neighborhoods in New York City.<strong>"
        },
        {
            "metadata": {},
            "cell_type": "markdown",
            "source": "<i>Links to the data we will be getting from wikipedia:<i> \n\n1. https://en.wikipedia.org/wiki/New_York_City\n\n2. https://en.wikipedia.org/wiki/Portal:New_York_City\n \n3. https://en.wikipedia.org/wiki/Economy_of_New_York_City\n\n4. https://en.wikipedia.org/wiki/List_of_Michelin_starred_restaurants_in_New_York_City\n\n5. https://en.wikipedia.org/wiki/Cuisine_of_New_York_City\n"
        },
        {
            "metadata": {},
            "cell_type": "code",
            "source": "",
            "execution_count": null,
            "outputs": []
        }
    ],
    "metadata": {
        "kernelspec": {
            "name": "python3",
            "display_name": "Python 3.6",
            "language": "python"
        },
        "language_info": {
            "name": "python",
            "version": "3.6.9",
            "mimetype": "text/x-python",
            "codemirror_mode": {
                "name": "ipython",
                "version": 3
            },
            "pygments_lexer": "ipython3",
            "nbconvert_exporter": "python",
            "file_extension": ".py"
        }
    },
    "nbformat": 4,
    "nbformat_minor": 1
}